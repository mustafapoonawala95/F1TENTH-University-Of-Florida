{
 "cells": [
  {
   "cell_type": "code",
   "execution_count": 1,
   "id": "82859a6a",
   "metadata": {},
   "outputs": [],
   "source": [
    "import torch\n",
    "import torch.nn as nn\n",
    "import torch.nn.functional as F\n"
   ]
  },
  {
   "cell_type": "code",
   "execution_count": 2,
   "id": "54a9f850",
   "metadata": {},
   "outputs": [],
   "source": [
    "class model(nn.Module):\n",
    "    def __init__(self, S, B, C):\n",
    "        # S= No.of boxes, B=No.of prediction boxes, C=No.of classes\n",
    "        super(model, self).__init__()\n",
    "        self.architecture = nn.Sequential(\n",
    "            nn.Conv2d(3,64,kernel_size=7,stride=2,padding=3),\n",
    "            nn.BatchNorm2d(64),\n",
    "            nn.LeakyReLU(0.1),\n",
    "            nn.MaxPool2d(kernel_size=2, stride=2),\n",
    "            \n",
    "            nn.Conv2d(64,192,kernel_size=3,stride=1,padding=1),\n",
    "            nn.BatchNorm2d(192),\n",
    "            nn.LeakyReLU(0.1),\n",
    "            nn.MaxPool2d(kernel_size=2, stride=2),\n",
    "            \n",
    "            nn.Conv2d(192,128,kernel_size=1,stride=1,padding=0),\n",
    "            nn.Conv2d(128,256,kernel_size=3,stride=1,padding=1),\n",
    "            nn.Conv2d(256,256,kernel_size=1,stride=1,padding=0),\n",
    "            nn.Conv2d(256,512,kernel_size=3,stride=1,padding=1),\n",
    "            nn.BatchNorm2d(512),\n",
    "            nn.LeakyReLU(0.1),\n",
    "            nn.MaxPool2d(kernel_size=2, stride=2),\n",
    "            \n",
    "#             nn.Conv2d(512,256,kernel_size=1,stride=1,padding=0),\n",
    "#             nn.Conv2d(256,512,kernel_size=3,stride=1,padding=1),\n",
    "#             nn.Conv2d(512,256,kernel_size=1,stride=1,padding=0),\n",
    "#             nn.Conv2d(256,512,kernel_size=3,stride=1,padding=1),\n",
    "#             nn.Conv2d(512,256,kernel_size=1,stride=1,padding=0),\n",
    "#             nn.Conv2d(256,512,kernel_size=3,stride=1,padding=1),\n",
    "#             nn.Conv2d(512,256,kernel_size=1,stride=1,padding=0),\n",
    "#             nn.Conv2d(256,512,kernel_size=3,stride=1,padding=1),\n",
    "#             nn.Conv2d(512,512,kernel_size=1,stride=1,padding=0),\n",
    "#             nn.Conv2d(512,1024,kernel_size=3,stride=1,padding=1),\n",
    "#             nn.BatchNorm2d(1024),\n",
    "#             nn.LeakyReLU(0.1),\n",
    "#             nn.MaxPool2d(kernel_size=2, stride=2),\n",
    "            \n",
    "#             nn.Conv2d(1024, 512, kernel_size=1, stride=1, padding=0),\n",
    "            nn.Conv2d(512, 1024, kernel_size=3, stride=1, padding=1),\n",
    "            nn.Conv2d(1024, 512, kernel_size=1, stride=1, padding=0),\n",
    "            nn.Conv2d(512, 1024, kernel_size=3, stride=1, padding=1),\n",
    "            nn.Conv2d(1024, 1024, kernel_size=3, stride=1, padding=1),\n",
    "            nn.Conv2d(1024, 1024, kernel_size=3, stride=2, padding=1),\n",
    "            nn.Conv2d(1024, 1024, kernel_size=3, stride=1, padding=1),\n",
    "            nn.Conv2d(1024, 1024, kernel_size=3, stride=1, padding=1),\n",
    "            \n",
    "            nn.Flatten(),\n",
    "            nn.Linear(1024 * S * S, 4096),\n",
    "            nn.Dropout(0.0),\n",
    "            nn.LeakyReLU(0.1),\n",
    "            nn.Linear(4096, S * S * (C + B * 5))\n",
    "        )\n",
    "        \n",
    "    def forward(self, x):\n",
    "        return self.architecture(x)\n",
    "        "
   ]
  },
  {
   "cell_type": "code",
   "execution_count": null,
   "id": "5f9a0884",
   "metadata": {},
   "outputs": [],
   "source": []
  }
 ],
 "metadata": {
  "kernelspec": {
   "display_name": "Python 3",
   "language": "python",
   "name": "python3"
  },
  "language_info": {
   "codemirror_mode": {
    "name": "ipython",
    "version": 3
   },
   "file_extension": ".py",
   "mimetype": "text/x-python",
   "name": "python",
   "nbconvert_exporter": "python",
   "pygments_lexer": "ipython3",
   "version": "3.9.6"
  }
 },
 "nbformat": 4,
 "nbformat_minor": 5
}
