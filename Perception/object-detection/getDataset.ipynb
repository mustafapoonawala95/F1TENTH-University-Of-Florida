{
 "cells": [
  {
   "cell_type": "code",
   "execution_count": 1,
   "id": "2d4e0299",
   "metadata": {},
   "outputs": [],
   "source": [
    "from PIL import Image\n",
    "import torch\n",
    "import pandas as pd\n",
    "import os"
   ]
  },
  {
   "cell_type": "code",
   "execution_count": null,
   "id": "57662811",
   "metadata": {},
   "outputs": [],
   "source": [
    "class load_ds(torch.utils.data.Dataset):\n",
    "    def __init__(self, csv, images_dir, label_dir, S, B, C, transform=None):\n",
    "        self.associations = pd.read_csv(csv)\n",
    "        self.img_dir      = images_dir\n",
    "        self.lbl_dir      = label_dir\n",
    "        self.transform    = transform\n",
    "        self.S            = S\n",
    "        self.B            = B\n",
    "        self.C            = C\n",
    "        \n",
    "    def __len__(self):\n",
    "        return len(self.associations)\n",
    "        \n",
    "    def __getitem__(self, index):\n",
    "        img_path   = os.path.join(self.img_dir, self.associations.iloc[index, 0])\n",
    "        label_path = os.path.join(self.lbl_dir, self.associations.iloc[index, 1])\n",
    "        bboxes     = []\n",
    "        \n",
    "        with open(label_path) as x:\n",
    "            for i in x.readlines():\n",
    "                class_label, x, y, w, h = [float(x) if float(x) != int(float(x)) else int(x)\n",
    "                                            for x in i.replace(\"\\n\", \"\").split()]\n",
    "                \n",
    "                bboxes.append([class_label, x, y, w, h])\n",
    "        \n",
    "        img = Image.open(img_path)\n",
    "        if self.transform:\n",
    "            for i in self.transform:\n",
    "                img, bboxes = i(img), bboxes\n",
    "                \n",
    "        \n",
    "        labels = torch.zeros((self.S, self.S, self.C + self.B*5))\n",
    "        for box in bboxes:\n",
    "            class_label, x, y, w, h = box\n",
    "            class_label = int(class_label)\n",
    "\n",
    "            # i,j represents the cell row and cell column\n",
    "            i, j = int(self.S * y), int(self.S * x)\n",
    "            x_cell, y_cell = self.S * x - j, self.S * y - i\n",
    "            w_cell, h_cell = (w*self.S, h*self.S)\n",
    "            \n",
    "            \n",
    "            if labels[i, j, 20] == 0:\n",
    "                # Set that there exists an object\n",
    "                labels[i, j, 20] = 1\n",
    "\n",
    "                # Box coordinates\n",
    "                box_coords = torch.tensor([x_cell, y_cell, w_cell, h_cell])\n",
    "                labels[i, j, 21:25] = box_coords\n",
    "\n",
    "                # Set one hot encoding for class_label\n",
    "                labels[i, j, class_label] = 1\n",
    "\n",
    "        return img, labels\n",
    "                        "
   ]
  },
  {
   "cell_type": "code",
   "execution_count": null,
   "id": "a040f6e2",
   "metadata": {},
   "outputs": [],
   "source": []
  }
 ],
 "metadata": {
  "kernelspec": {
   "display_name": "Python 3",
   "language": "python",
   "name": "python3"
  },
  "language_info": {
   "codemirror_mode": {
    "name": "ipython",
    "version": 3
   },
   "file_extension": ".py",
   "mimetype": "text/x-python",
   "name": "python",
   "nbconvert_exporter": "python",
   "pygments_lexer": "ipython3",
   "version": "3.9.6"
  }
 },
 "nbformat": 4,
 "nbformat_minor": 5
}
