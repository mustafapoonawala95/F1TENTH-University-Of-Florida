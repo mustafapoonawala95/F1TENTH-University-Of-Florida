{
 "cells": [
  {
   "cell_type": "code",
   "execution_count": null,
   "id": "bbeb8100",
   "metadata": {},
   "outputs": [],
   "source": [
    "import torch\n",
    "import pandas\n",
    "import matplotlib.pyplot as plt\n",
    "import os\n",
    "import import_ipynb\n",
    "\n",
    "os.getcwd()"
   ]
  },
  {
   "cell_type": "code",
   "execution_count": null,
   "id": "494979e5",
   "metadata": {},
   "outputs": [],
   "source": [
    "from torchvision.datasets import ImageFolder\n",
    "import torchvision.transforms as T\n",
    "import getDataset\n",
    "\n",
    "S = 7\n",
    "B = 2\n",
    "C = 20\n",
    "\n",
    "# csv_directory, images_directory, labels_directory, transformation\n",
    "csv_dir  = 'D:\\\\WORK\\\\DATASETS\\\\archive\\\\train.csv'\n",
    "img_dir  = 'D:\\\\WORK\\\\DATASETS\\\\archive\\\\images'\n",
    "lbl_dir  = 'D:\\\\WORK\\\\DATASETS\\\\archive\\\\labels'\n",
    "\n",
    "to = [T.ToTensor(),T.Resize((448,448))]\n",
    "dataset  = getDataset.load_ds(csv_dir,\n",
    "                              img_dir,\n",
    "                              lbl_dir,\n",
    "                              transform=to, S=S, B=B, C=C)\n",
    "print(\"Dataset length: \", len(dataset))"
   ]
  },
  {
   "cell_type": "code",
   "execution_count": null,
   "id": "7c162f95",
   "metadata": {},
   "outputs": [],
   "source": [
    "from torch.utils.data.dataloader import DataLoader\n",
    "\n",
    "batch_size  = 5\n",
    "num_workers = 0\n",
    "train_dl    = DataLoader(dataset, batch_size, shuffle=True, num_workers=num_workers, pin_memory=True)"
   ]
  },
  {
   "cell_type": "code",
   "execution_count": null,
   "id": "cec6fa90",
   "metadata": {
    "scrolled": false
   },
   "outputs": [],
   "source": [
    "import architecture\n",
    "\n",
    "S = 7\n",
    "B = 2\n",
    "C = 20\n",
    "\n",
    "device = 'cuda' if torch.cuda.is_available() else 'cpu'\n",
    "model  = architecture.model(S=S, B=B, C=C).to(device)\n",
    "model.parameters()\n",
    "\n",
    "# x = torch.randn((2, 3, 448, 448))    "
   ]
  },
  {
   "cell_type": "code",
   "execution_count": null,
   "id": "89e87e05",
   "metadata": {},
   "outputs": [],
   "source": [
    "for x, y in train_dl:\n",
    "    print(x.shape, y.shape)\n",
    "#     print(model(x).reshape(-1, 7, 7, 30).shape)\n",
    "    break"
   ]
  },
  {
   "cell_type": "code",
   "execution_count": null,
   "id": "614743ad",
   "metadata": {},
   "outputs": [],
   "source": [
    "from tqdm import tqdm\n",
    "import torch.optim as optim\n",
    "from loss import current_loss\n",
    "\n",
    "loop      = tqdm(enumerate(train_dl), total=len(train_dl), leave=False)\n",
    "myloss    = current_loss(S, B, C, 'midpoint')\n",
    "avg_loss  = []\n",
    "optimizer = optim.Adam(model.parameters(), lr=0.00001, weight_decay=0)\n",
    "\n",
    "print(\"Using :\", device)\n",
    "for batch_idx, (x, y) in loop:\n",
    "    x = x.to(device)\n",
    "    y = y.to(device)\n",
    "    \n",
    "    loss = myloss.fwd(model(x), y)\n",
    "    print(loss)\n",
    "    avg_loss.append(loss)\n",
    "    optimizer.zero_grad()\n",
    "    loss.backward()\n",
    "    optimizer.step()\n",
    "    loop.set_postfix(loss=loss.item())\n",
    "\n",
    "print(f\"Mean loss was {sum(avg_loss)/len(avg_loss)}\")\n",
    "    \n",
    "    \n",
    "    "
   ]
  },
  {
   "cell_type": "code",
   "execution_count": null,
   "id": "f45b2f96",
   "metadata": {},
   "outputs": [],
   "source": []
  }
 ],
 "metadata": {
  "kernelspec": {
   "display_name": "Python 3",
   "language": "python",
   "name": "python3"
  },
  "language_info": {
   "codemirror_mode": {
    "name": "ipython",
    "version": 3
   },
   "file_extension": ".py",
   "mimetype": "text/x-python",
   "name": "python",
   "nbconvert_exporter": "python",
   "pygments_lexer": "ipython3",
   "version": "3.9.6"
  }
 },
 "nbformat": 4,
 "nbformat_minor": 5
}
